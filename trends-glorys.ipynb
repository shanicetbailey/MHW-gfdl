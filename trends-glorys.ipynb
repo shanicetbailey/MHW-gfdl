{
 "cells": [
  {
   "cell_type": "markdown",
   "id": "9002f13a-d386-44f5-9731-fb35e534483a",
   "metadata": {},
   "source": [
    "# Trend maps of `as"
   ]
  },
  {
   "cell_type": "code",
   "execution_count": 2,
   "id": "3e0a134c-e9c3-414d-8f28-357a186acfe6",
   "metadata": {
    "scrolled": true
   },
   "outputs": [
    {
     "name": "stdout",
     "output_type": "stream",
     "text": [
      "Collecting copernicusmarine\n",
      "  Downloading copernicusmarine-2.0.1-py3-none-any.whl.metadata (8.0 kB)\n",
      "Collecting boto3>=1.26 (from copernicusmarine)\n",
      "  Downloading boto3-1.36.26-py3-none-any.whl.metadata (6.7 kB)\n",
      "Requirement already satisfied: click>=8.0.4 in /home/Shanice.Bailey/.local/lib/python3.11/site-packages (from copernicusmarine) (8.1.8)\n",
      "Requirement already satisfied: dask>=2022 in /home/Shanice.Bailey/.local/lib/python3.11/site-packages (from copernicusmarine) (2025.1.0)\n",
      "Requirement already satisfied: h5netcdf<2.0.0,>=1.4.0 in /home/Shanice.Bailey/.local/lib/python3.11/site-packages (from copernicusmarine) (1.5.0)\n",
      "Collecting lxml>=4.9.0 (from copernicusmarine)\n",
      "  Downloading lxml-5.3.1-cp311-cp311-manylinux_2_28_x86_64.whl.metadata (3.7 kB)\n",
      "Requirement already satisfied: numpy>=1.23.0 in /nbhome/Shanice.Bailey/conda/envs/bai/lib/python3.11/site-packages (from copernicusmarine) (2.1.0)\n",
      "Collecting pydantic<3.0.0,>=2.9.1 (from copernicusmarine)\n",
      "  Downloading pydantic-2.10.6-py3-none-any.whl.metadata (30 kB)\n",
      "Collecting pystac>=1.8.3 (from copernicusmarine)\n",
      "  Downloading pystac-1.12.2-py3-none-any.whl.metadata (4.6 kB)\n",
      "Requirement already satisfied: requests>=2.27.1 in /nbhome/Shanice.Bailey/conda/envs/bai/lib/python3.11/site-packages (from copernicusmarine) (2.32.3)\n",
      "Collecting semver>=3.0.2 (from copernicusmarine)\n",
      "  Downloading semver-3.0.4-py3-none-any.whl.metadata (6.8 kB)\n",
      "Requirement already satisfied: setuptools>=68.2.2 in /nbhome/Shanice.Bailey/conda/envs/bai/lib/python3.11/site-packages (from copernicusmarine) (75.8.0)\n",
      "Requirement already satisfied: tqdm>=4.65.0 in /home/Shanice.Bailey/.local/lib/python3.11/site-packages (from copernicusmarine) (4.67.1)\n",
      "Requirement already satisfied: xarray>=2023.4.0 in /nbhome/Shanice.Bailey/conda/envs/bai/lib/python3.11/site-packages (from copernicusmarine) (2025.1.2)\n",
      "Collecting zarr<3.0.0,>=2.13.3 (from copernicusmarine)\n",
      "  Downloading zarr-2.18.4-py3-none-any.whl.metadata (5.8 kB)\n",
      "Collecting botocore<1.37.0,>=1.36.26 (from boto3>=1.26->copernicusmarine)\n",
      "  Downloading botocore-1.36.26-py3-none-any.whl.metadata (5.7 kB)\n",
      "Collecting jmespath<2.0.0,>=0.7.1 (from boto3>=1.26->copernicusmarine)\n",
      "  Downloading jmespath-1.0.1-py3-none-any.whl.metadata (7.6 kB)\n",
      "Collecting s3transfer<0.12.0,>=0.11.0 (from boto3>=1.26->copernicusmarine)\n",
      "  Downloading s3transfer-0.11.2-py3-none-any.whl.metadata (1.7 kB)\n",
      "Requirement already satisfied: cloudpickle>=3.0.0 in /home/Shanice.Bailey/.local/lib/python3.11/site-packages (from dask>=2022->copernicusmarine) (3.1.1)\n",
      "Requirement already satisfied: fsspec>=2021.09.0 in /home/Shanice.Bailey/.local/lib/python3.11/site-packages (from dask>=2022->copernicusmarine) (2024.12.0)\n",
      "Requirement already satisfied: packaging>=20.0 in /home/Shanice.Bailey/.local/lib/python3.11/site-packages (from dask>=2022->copernicusmarine) (24.2)\n",
      "Requirement already satisfied: partd>=1.4.0 in /home/Shanice.Bailey/.local/lib/python3.11/site-packages (from dask>=2022->copernicusmarine) (1.4.2)\n",
      "Requirement already satisfied: pyyaml>=5.3.1 in /home/Shanice.Bailey/.local/lib/python3.11/site-packages (from dask>=2022->copernicusmarine) (6.0.2)\n",
      "Requirement already satisfied: toolz>=0.10.0 in /home/Shanice.Bailey/.local/lib/python3.11/site-packages (from dask>=2022->copernicusmarine) (1.0.0)\n",
      "Requirement already satisfied: importlib_metadata>=4.13.0 in /home/Shanice.Bailey/.local/lib/python3.11/site-packages (from dask>=2022->copernicusmarine) (8.5.0)\n",
      "Requirement already satisfied: h5py in /home/Shanice.Bailey/.local/lib/python3.11/site-packages (from h5netcdf<2.0.0,>=1.4.0->copernicusmarine) (3.12.1)\n",
      "Collecting annotated-types>=0.6.0 (from pydantic<3.0.0,>=2.9.1->copernicusmarine)\n",
      "  Downloading annotated_types-0.7.0-py3-none-any.whl.metadata (15 kB)\n",
      "Collecting pydantic-core==2.27.2 (from pydantic<3.0.0,>=2.9.1->copernicusmarine)\n",
      "  Downloading pydantic_core-2.27.2-cp311-cp311-manylinux_2_17_x86_64.manylinux2014_x86_64.whl.metadata (6.6 kB)\n",
      "Requirement already satisfied: typing-extensions>=4.12.2 in /nbhome/Shanice.Bailey/conda/envs/bai/lib/python3.11/site-packages (from pydantic<3.0.0,>=2.9.1->copernicusmarine) (4.12.2)\n",
      "Requirement already satisfied: python-dateutil>=2.7.0 in /nbhome/Shanice.Bailey/conda/envs/bai/lib/python3.11/site-packages (from pystac>=1.8.3->copernicusmarine) (2.9.0.post0)\n",
      "Requirement already satisfied: charset_normalizer<4,>=2 in /nbhome/Shanice.Bailey/conda/envs/bai/lib/python3.11/site-packages (from requests>=2.27.1->copernicusmarine) (3.4.1)\n",
      "Requirement already satisfied: idna<4,>=2.5 in /nbhome/Shanice.Bailey/conda/envs/bai/lib/python3.11/site-packages (from requests>=2.27.1->copernicusmarine) (3.10)\n",
      "Requirement already satisfied: urllib3<3,>=1.21.1 in /nbhome/Shanice.Bailey/conda/envs/bai/lib/python3.11/site-packages (from requests>=2.27.1->copernicusmarine) (2.3.0)\n",
      "Requirement already satisfied: certifi>=2017.4.17 in /nbhome/Shanice.Bailey/conda/envs/bai/lib/python3.11/site-packages (from requests>=2.27.1->copernicusmarine) (2025.1.31)\n",
      "Requirement already satisfied: pandas>=2.1 in /nbhome/Shanice.Bailey/conda/envs/bai/lib/python3.11/site-packages (from xarray>=2023.4.0->copernicusmarine) (2.2.3)\n",
      "Collecting asciitree (from zarr<3.0.0,>=2.13.3->copernicusmarine)\n",
      "  Downloading asciitree-0.3.3.tar.gz (4.0 kB)\n",
      "  Preparing metadata (setup.py) ... \u001b[?25ldone\n",
      "\u001b[?25hCollecting fasteners (from zarr<3.0.0,>=2.13.3->copernicusmarine)\n",
      "  Downloading fasteners-0.19-py3-none-any.whl.metadata (4.9 kB)\n",
      "Requirement already satisfied: numcodecs!=0.14.0,!=0.14.1,>=0.10.0 in /home/Shanice.Bailey/.local/lib/python3.11/site-packages (from zarr<3.0.0,>=2.13.3->copernicusmarine) (0.15.0)\n",
      "Requirement already satisfied: zipp>=3.20 in /home/Shanice.Bailey/.local/lib/python3.11/site-packages (from importlib_metadata>=4.13.0->dask>=2022->copernicusmarine) (3.21.0)\n",
      "Requirement already satisfied: deprecated in /home/Shanice.Bailey/.local/lib/python3.11/site-packages (from numcodecs!=0.14.0,!=0.14.1,>=0.10.0->zarr<3.0.0,>=2.13.3->copernicusmarine) (1.2.18)\n",
      "Requirement already satisfied: pytz>=2020.1 in /nbhome/Shanice.Bailey/conda/envs/bai/lib/python3.11/site-packages (from pandas>=2.1->xarray>=2023.4.0->copernicusmarine) (2024.1)\n",
      "Requirement already satisfied: tzdata>=2022.7 in /nbhome/Shanice.Bailey/conda/envs/bai/lib/python3.11/site-packages (from pandas>=2.1->xarray>=2023.4.0->copernicusmarine) (2025.1)\n",
      "Requirement already satisfied: locket in /home/Shanice.Bailey/.local/lib/python3.11/site-packages (from partd>=1.4.0->dask>=2022->copernicusmarine) (1.0.0)\n",
      "Requirement already satisfied: six>=1.5 in /nbhome/Shanice.Bailey/conda/envs/bai/lib/python3.11/site-packages (from python-dateutil>=2.7.0->pystac>=1.8.3->copernicusmarine) (1.17.0)\n",
      "Requirement already satisfied: wrapt<2,>=1.10 in /home/Shanice.Bailey/.local/lib/python3.11/site-packages (from deprecated->numcodecs!=0.14.0,!=0.14.1,>=0.10.0->zarr<3.0.0,>=2.13.3->copernicusmarine) (1.17.2)\n",
      "Downloading copernicusmarine-2.0.1-py3-none-any.whl (98 kB)\n",
      "Downloading boto3-1.36.26-py3-none-any.whl (139 kB)\n",
      "Downloading lxml-5.3.1-cp311-cp311-manylinux_2_28_x86_64.whl (5.0 MB)\n",
      "\u001b[2K   \u001b[90m----------------------------------------\u001b[0m \u001b[32m5.0/5.0 MB\u001b[0m \u001b[31m149.8 MB/s\u001b[0m eta \u001b[36m0:00:00\u001b[0m\n",
      "Downloading pydantic-2.10.6-py3-none-any.whl (431 kB)\n",
      "Downloading pydantic_core-2.27.2-cp311-cp311-manylinux_2_17_x86_64.manylinux2014_x86_64.whl (2.0 MB)\n",
      "\u001b[2K   \u001b[90m----------------------------------------\u001b[0m \u001b[32m2.0/2.0 MB\u001b[0m \u001b[31m170.2 MB/s\u001b[0m eta \u001b[36m0:00:00\u001b[0m\n",
      "\u001b[?25hDownloading pystac-1.12.2-py3-none-any.whl (194 kB)\n",
      "Downloading semver-3.0.4-py3-none-any.whl (17 kB)\n",
      "Downloading zarr-2.18.4-py3-none-any.whl (210 kB)\n",
      "Downloading annotated_types-0.7.0-py3-none-any.whl (13 kB)\n",
      "Downloading botocore-1.36.26-py3-none-any.whl (13.4 MB)\n",
      "\u001b[2K   \u001b[90m----------------------------------------\u001b[0m \u001b[32m13.4/13.4 MB\u001b[0m \u001b[31m171.1 MB/s\u001b[0m eta \u001b[36m0:00:00\u001b[0m\n",
      "\u001b[?25hDownloading jmespath-1.0.1-py3-none-any.whl (20 kB)\n",
      "Downloading s3transfer-0.11.2-py3-none-any.whl (84 kB)\n",
      "Downloading fasteners-0.19-py3-none-any.whl (18 kB)\n",
      "Building wheels for collected packages: asciitree\n",
      "  Building wheel for asciitree (setup.py) ... \u001b[?done\n",
      "\u001b[?25h  Created wheel for asciitree: filename=asciitree-0.3.3-py3-none-any.whl size=5071 sha256=fa4281995e70a1f71e54e840779d9436c6a1e012704e7a14c5731a53aaeddfbf\n",
      "  Stored in directory: /tmp/cache_Shanice.Bailey/pip/wheels/71/c1/da/23077eb3b87d24d6f3852ed1ed1a1ac2d3c885ad6ebd2b4a07\n",
      "Successfully built asciitree\n",
      "Installing collected packages: asciitree, semver, pydantic-core, lxml, jmespath, fasteners, annotated-types, pystac, pydantic, botocore, zarr, s3transfer, boto3, copernicusmarine\n",
      "  Attempting uninstall: zarr\n",
      "    Found existing installation: zarr 3.0.1\n",
      "    Uninstalling zarr-3.0.1:\n",
      "      Successfully uninstalled zarr-3.0.1\n",
      "Successfully installed annotated-types-0.7.0 asciitree-0.3.3 boto3-1.36.26 botocore-1.36.26 copernicusmarine-2.0.1 fasteners-0.19 jmespath-1.0.1 lxml-5.3.1 pydantic-2.10.6 pydantic-core-2.27.2 pystac-1.12.2 s3transfer-0.11.2 semver-3.0.4 zarr-2.18.4\n",
      "Note: you may need to restart the kernel to use updated packages.\n"
     ]
    }
   ],
   "source": [
    "pip install copernicusmarine"
   ]
  },
  {
   "cell_type": "code",
   "execution_count": 3,
   "id": "78ac1c53-6da5-411b-89d1-b84b8e61732b",
   "metadata": {},
   "outputs": [],
   "source": [
    "# Import modules\n",
    "import copernicusmarine"
   ]
  },
  {
   "cell_type": "code",
   "execution_count": 4,
   "id": "0154b3d5-f396-4c1a-98bd-2875e6ad9ea3",
   "metadata": {},
   "outputs": [
    {
     "name": "stderr",
     "output_type": "stream",
     "text": [
      "INFO - 2025-02-23T19:09:28Z - Selected dataset version: \"202311\"\n",
      "INFO - 2025-02-23T19:09:28Z - Selected dataset part: \"default\"\n",
      "INFO - 2025-02-23T19:09:32Z - Downloading Copernicus Marine data requires a Copernicus Marine username and password, sign up for free at: https://data.marine.copernicus.eu/register\n"
     ]
    },
    {
     "name": "stdout",
     "output_type": "stream",
     "text": [
      "Copernicus Marine username:"
     ]
    },
    {
     "name": "stdin",
     "output_type": "stream",
     "text": [
      "  sbailey2\n"
     ]
    },
    {
     "name": "stdout",
     "output_type": "stream",
     "text": [
      "Copernicus Marine password:"
     ]
    },
    {
     "name": "stdin",
     "output_type": "stream",
     "text": [
      "  ········\n"
     ]
    },
    {
     "name": "stdout",
     "output_type": "stream",
     "text": [
      "<xarray.Dataset> Size: 479GB\n",
      "Dimensions:    (depth: 50, latitude: 169, longitude: 337, time: 10408)\n",
      "Coordinates:\n",
      "  * depth      (depth) float32 200B 0.494 1.541 2.646 ... 5.275e+03 5.728e+03\n",
      "  * latitude   (latitude) float32 676B 17.0 17.08 17.17 ... 30.83 30.92 31.0\n",
      "  * longitude  (longitude) float32 1kB -100.0 -99.92 -99.83 ... -72.08 -72.0\n",
      "  * time       (time) datetime64[ns] 83kB 1993-01-01 1993-01-02 ... 2021-06-30\n",
      "Data variables:\n",
      "    zos        (time, latitude, longitude) float64 5GB dask.array<chunksize=(2081, 4, 32), meta=np.ndarray>\n",
      "    uo         (time, depth, latitude, longitude) float64 237GB dask.array<chunksize=(2081, 1, 4, 32), meta=np.ndarray>\n",
      "    vo         (time, depth, latitude, longitude) float64 237GB dask.array<chunksize=(2081, 1, 4, 32), meta=np.ndarray>\n",
      "Attributes:\n",
      "    institution:  MERCATOR OCEAN\n",
      "    references:   http://www.mercator-ocean.fr\n",
      "    title:        daily mean fields from Global Ocean Physics Analysis and Fo...\n",
      "    source:       MERCATOR GLORYS12V1\n",
      "    comment:      CMEMS product\n",
      "    Conventions:  CF-1.4\n",
      "    history:      2023/06/01 16:20:05 MERCATOR OCEAN Netcdf creation\n"
     ]
    }
   ],
   "source": [
    "# Set parameters\n",
    "data_request = {\n",
    "   \"GLOBAL_MULTIYEAR_PHY_001_030\" : \"cmems_mod_glo_phy_my_0.083deg_P1D-m\",\n",
    "   \"longitude\" : [-100, -72], \n",
    "   \"latitude\" : [17, 31],\n",
    "   \"time\" : [\"1993-01-01\", \"2021-06-30\"],\n",
    "   \"variables\" : [\"sea_surface_height_above_geoid\", \n",
    "                  \"eastward_sea_water_velocity\",\n",
    "                  \"northward_sea_water_velocity\"]\n",
    "}\n",
    "\n",
    "# Load xarray dataset\n",
    "ds = copernicusmarine.open_dataset(\n",
    "    dataset_id = data_request[\"GLOBAL_MULTIYEAR_PHY_001_030\"],\n",
    "    minimum_longitude = data_request[\"longitude\"][0],\n",
    "    maximum_longitude = data_request[\"longitude\"][1],\n",
    "    minimum_latitude = data_request[\"latitude\"][0],\n",
    "    maximum_latitude = data_request[\"latitude\"][1],\n",
    "    start_datetime = data_request[\"time\"][0],\n",
    "    end_datetime = data_request[\"time\"][1],\n",
    "    variables = data_request[\"variables\"]\n",
    ")\n",
    "\n",
    "# Print loaded dataset information\n",
    "print(ds)"
   ]
  },
  {
   "cell_type": "code",
   "execution_count": null,
   "id": "8b2d4e77-2291-444b-a4f3-4b6b00db4969",
   "metadata": {},
   "outputs": [],
   "source": [
    "ds.to_netcdf(f\"{data_request['GLOBAL_MULTIYEAR_PHY_001_030']}.nc\") "
   ]
  },
  {
   "cell_type": "code",
   "execution_count": null,
   "id": "2c9b429e-3535-48e3-9c5e-d832eacff31a",
   "metadata": {},
   "outputs": [],
   "source": []
  }
 ],
 "metadata": {
  "kernelspec": {
   "display_name": "Python 3 (ipykernel)",
   "language": "python",
   "name": "python3"
  },
  "language_info": {
   "codemirror_mode": {
    "name": "ipython",
    "version": 3
   },
   "file_extension": ".py",
   "mimetype": "text/x-python",
   "name": "python",
   "nbconvert_exporter": "python",
   "pygments_lexer": "ipython3",
   "version": "3.11.11"
  }
 },
 "nbformat": 4,
 "nbformat_minor": 5
}
